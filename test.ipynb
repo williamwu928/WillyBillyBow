import numpy as np
import pandas as pd 
Print("Hello Capstone Project Course!")